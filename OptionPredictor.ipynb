{
 "cells": [
  {
   "cell_type": "code",
   "execution_count": 1,
   "id": "a627f99e",
   "metadata": {},
   "outputs": [],
   "source": [
    "import yfinance as yf\n",
    "import math"
   ]
  },
  {
   "cell_type": "code",
   "execution_count": 42,
   "id": "380a90b3",
   "metadata": {},
   "outputs": [],
   "source": [
    "\n",
    "def get_volatity(company_name, time_period):\n",
    "    \n",
    "    # Retrieve stock price data using yfinance\n",
    "    ticker = yf.Ticker(company_name)\n",
    "    hist_data = ticker.history(period=time_period)\n",
    "\n",
    "    # Calculate daily returns\n",
    "    hist_data[\"Daily Return\"] = hist_data[\"Close\"].pct_change()\n",
    "\n",
    "    # Calculate volatility using annualized standard deviation of daily returns\n",
    "    volatility = np.sqrt(252) * hist_data[\"Daily Return\"].std()\n",
    "\n",
    "    print(\"Volatility:\", volatility)\n",
    "    return volatility\n"
   ]
  },
  {
   "cell_type": "code",
   "execution_count": 43,
   "id": "05c65c35",
   "metadata": {},
   "outputs": [],
   "source": [
    "def get_current_price(company_name):\n",
    "    \n",
    "    # Retrieve stock price data using yfinance\n",
    "    ticker = yf.Ticker(company_name)\n",
    "    current_price = ticker.history(period=\"1d\")[\"Close\"][0]\n",
    "\n",
    "    print(\"Current stock price:\", current_price)\n",
    "    return current_price;"
   ]
  },
  {
   "cell_type": "code",
   "execution_count": 45,
   "id": "d24fe6cb",
   "metadata": {},
   "outputs": [],
   "source": [
    "\n",
    "def black_scholes():\n",
    "    # Get user input\n",
    "    company_name = input(\"Enter the company name: \")\n",
    "    K = float(input(\"Enter the option strike price: \"))\n",
    "    r = float(input(\"Enter the risk-free interest rate in percentage: \")) / 100\n",
    "    T = input(\"Enter the time to expiration : \")\n",
    "    type = input(\"Enter the y/mo/d : \")\n",
    "\n",
    "    #Calculate some data\n",
    "    S = get_current_price(company_name)\n",
    "    time_duration= time_duration = f\"{T} {type}\"\n",
    "    sigma = float(get_volatity(company_name, time_duration))\n",
    "    \n",
    "    T=int(T)\n",
    "\n",
    "    # Calculate d1 and d2\n",
    "    d1 = (math.log(S / K) + (r + (sigma ** 2) / 2) * T) / (sigma * math.sqrt(T))\n",
    "    d2 = d1 - sigma * math.sqrt(T)\n",
    "\n",
    "    # Calculate option price using the Black-Scholes formula\n",
    "    call_price = S * norm.cdf(d1) - K * math.exp(-r * T) * norm.cdf(d2)\n",
    "    put_price = K * math.exp(-r * T) * norm.cdf(-d2) - S * norm.cdf(-d1)\n",
    "\n",
    "    print(\"Call option price:\", call_price)\n",
    "    print(\"Put option price:\", put_price)\n"
   ]
  },
  {
   "cell_type": "code",
   "execution_count": 46,
   "id": "cc7d9a5d",
   "metadata": {},
   "outputs": [],
   "source": [
    "def CRR_model():\n",
    "    # Get user input\n",
    "    company_name = input(\"Enter the company name: \")\n",
    "    interest_rate = float(input(\"Enter the risk-free interest rate: /100 format \"))\n",
    "    no_of_time_intervals = int(input(\"Enter the number of time intervals: \"))\n",
    "    time_to_expiration = float(input(\"Enter the time to expiration (in years): \"))\n",
    "\n",
    "    # Retrieve stock price data using yfinance\n",
    "    ticker = yf.Ticker(company_name)\n",
    "    S = ticker.history(period=\"1d\")[\"Close\"][0]\n",
    "\n",
    "    # Retrieve the upward price movement factor (u) and downward price movement factor (d) using historical data\n",
    "    hist_data = ticker.history(period=\"max\")\n",
    "    hist_data[\"Daily Return\"] = hist_data[\"Close\"].pct_change()\n",
    "    u = 1 + math.exp(hist_data[\"Daily Return\"].std() * math.sqrt(time_to_expiration / no_of_time_intervals))\n",
    "    d = (1/u)\n",
    "\n",
    "    # Calculate CRR model parameters\n",
    "    delta_t = time_to_expiration / no_of_time_intervals\n",
    "    p = ((math.exp((interest_rate) * delta_t) - d) / (u - d))\n",
    "    q = 1 - p\n",
    "\n",
    "    # Calculate stock prices at each time interval\n",
    "    stock_prices = []\n",
    "    for i in range(no_of_time_intervals + 1):\n",
    "        stock_price = S * (u ** (no_of_time_intervals - i)) * (d ** i)\n",
    "        stock_prices.append(stock_price)\n",
    "\n",
    "    # Calculate option prices at final time interval\n",
    "    K = float(input(\"Enter the option strike price: \"))\n",
    "    option_prices = [max(stock_price - K, 0) for stock_price in stock_prices]\n",
    "\n",
    "    option_price =0;\n",
    "    # Work backwards to calculate option prices at earlier time intervals\n",
    "    for i in range(no_of_time_intervals+1 ):\n",
    "        option_price = option_price+  math.exp((-interest_rate * delta_t)) * ((p**(no_of_time_intervals-i))* (q**(i))* (option_prices[i])*(math.comb(no_of_time_intervals, i)) )\n",
    "\n",
    "\n",
    "\n",
    "    print(\"upward factor:\", u);\n",
    "    print(\"downside factor:\", d);\n",
    "    print(\"risk free probability:\", p);\n",
    "    print(\"Call Option price:\", option_price)"
   ]
  },
  {
   "cell_type": "code",
   "execution_count": 47,
   "id": "8b6957bf",
   "metadata": {},
   "outputs": [
    {
     "name": "stdout",
     "output_type": "stream",
     "text": [
      "1: CRR Model \n",
      " 2: Black Scholes Model2\n",
      "Enter the company name: AAPL\n",
      "Enter the option strike price: 80\n",
      "Enter the risk-free interest rate in percentage: 10\n",
      "Enter the time to expiration : 1\n",
      "Enter the y/mo/d : y\n",
      "Current stock price: 168.22000122070312\n",
      "Volatility: nan\n"
     ]
    },
    {
     "ename": "NameError",
     "evalue": "name 'norm' is not defined",
     "output_type": "error",
     "traceback": [
      "\u001b[1;31m---------------------------------------------------------------------------\u001b[0m",
      "\u001b[1;31mNameError\u001b[0m                                 Traceback (most recent call last)",
      "Cell \u001b[1;32mIn[47], line 5\u001b[0m\n\u001b[0;32m      3\u001b[0m    CRR_model()\n\u001b[0;32m      4\u001b[0m \u001b[38;5;28;01melse\u001b[39;00m:\n\u001b[1;32m----> 5\u001b[0m    \u001b[43mblack_scholes\u001b[49m\u001b[43m(\u001b[49m\u001b[43m)\u001b[49m\n",
      "Cell \u001b[1;32mIn[45], line 21\u001b[0m, in \u001b[0;36mblack_scholes\u001b[1;34m()\u001b[0m\n\u001b[0;32m     18\u001b[0m d2 \u001b[38;5;241m=\u001b[39m d1 \u001b[38;5;241m-\u001b[39m sigma \u001b[38;5;241m*\u001b[39m math\u001b[38;5;241m.\u001b[39msqrt(T)\n\u001b[0;32m     20\u001b[0m \u001b[38;5;66;03m# Calculate option price using the Black-Scholes formula\u001b[39;00m\n\u001b[1;32m---> 21\u001b[0m call_price \u001b[38;5;241m=\u001b[39m S \u001b[38;5;241m*\u001b[39m \u001b[43mnorm\u001b[49m\u001b[38;5;241m.\u001b[39mcdf(d1) \u001b[38;5;241m-\u001b[39m K \u001b[38;5;241m*\u001b[39m math\u001b[38;5;241m.\u001b[39mexp(\u001b[38;5;241m-\u001b[39mr \u001b[38;5;241m*\u001b[39m T) \u001b[38;5;241m*\u001b[39m norm\u001b[38;5;241m.\u001b[39mcdf(d2)\n\u001b[0;32m     22\u001b[0m put_price \u001b[38;5;241m=\u001b[39m K \u001b[38;5;241m*\u001b[39m math\u001b[38;5;241m.\u001b[39mexp(\u001b[38;5;241m-\u001b[39mr \u001b[38;5;241m*\u001b[39m T) \u001b[38;5;241m*\u001b[39m norm\u001b[38;5;241m.\u001b[39mcdf(\u001b[38;5;241m-\u001b[39md2) \u001b[38;5;241m-\u001b[39m S \u001b[38;5;241m*\u001b[39m norm\u001b[38;5;241m.\u001b[39mcdf(\u001b[38;5;241m-\u001b[39md1)\n\u001b[0;32m     24\u001b[0m \u001b[38;5;28mprint\u001b[39m(\u001b[38;5;124m\"\u001b[39m\u001b[38;5;124mCall option price:\u001b[39m\u001b[38;5;124m\"\u001b[39m, call_price)\n",
      "\u001b[1;31mNameError\u001b[0m: name 'norm' is not defined"
     ]
    }
   ],
   "source": [
    "option = input(\"1: CRR Model \\n 2: Black Scholes Model\")\n",
    "if option == \"1\": \n",
    "   CRR_model()\n",
    "else:\n",
    "   black_scholes()"
   ]
  },
  {
   "cell_type": "code",
   "execution_count": null,
   "id": "5bf9dc32",
   "metadata": {},
   "outputs": [],
   "source": []
  }
 ],
 "metadata": {
  "kernelspec": {
   "display_name": "Python 3 (ipykernel)",
   "language": "python",
   "name": "python3"
  },
  "language_info": {
   "codemirror_mode": {
    "name": "ipython",
    "version": 3
   },
   "file_extension": ".py",
   "mimetype": "text/x-python",
   "name": "python",
   "nbconvert_exporter": "python",
   "pygments_lexer": "ipython3",
   "version": "3.10.9"
  },
  "varInspector": {
   "cols": {
    "lenName": 16,
    "lenType": 16,
    "lenVar": 40
   },
   "kernels_config": {
    "python": {
     "delete_cmd_postfix": "",
     "delete_cmd_prefix": "del ",
     "library": "var_list.py",
     "varRefreshCmd": "print(var_dic_list())"
    },
    "r": {
     "delete_cmd_postfix": ") ",
     "delete_cmd_prefix": "rm(",
     "library": "var_list.r",
     "varRefreshCmd": "cat(var_dic_list()) "
    }
   },
   "types_to_exclude": [
    "module",
    "function",
    "builtin_function_or_method",
    "instance",
    "_Feature"
   ],
   "window_display": false
  }
 },
 "nbformat": 4,
 "nbformat_minor": 5
}
